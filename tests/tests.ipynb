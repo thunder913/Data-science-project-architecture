{
 "cells": [
  {
   "cell_type": "code",
   "execution_count": 1,
   "metadata": {},
   "outputs": [],
   "source": [
    "import sys\n",
    "import os\n",
    "import unittest\n",
    "import pandas as pd\n",
    "import numpy as np\n",
    "\n",
    "sys.path.append('../notebooks')\n",
    "\n",
    "from manipulation_functions import binarize_feature, log_transform_feature, add_polynomial_features, impute_missing_values"
   ]
  },
  {
   "cell_type": "code",
   "execution_count": 3,
   "metadata": {},
   "outputs": [
    {
     "name": "stderr",
     "output_type": "stream",
     "text": [
      "..F.....\n",
      "======================================================================\n",
      "FAIL: test_impute_missing_values (__main__.TestFeatureManipulation.test_impute_missing_values)\n",
      "Test missing value imputation.\n",
      "----------------------------------------------------------------------\n",
      "Traceback (most recent call last):\n",
      "  File \"C:\\Users\\andon\\AppData\\Local\\Temp\\ipykernel_24764\\3927241484.py\", line 34, in test_impute_missing_values\n",
      "    self.assertEqual(result['A'].iloc[2], 2.3335)  # Mean of 1, 2, 4\n",
      "    ^^^^^^^^^^^^^^^^^^^^^^^^^^^^^^^^^^^^^^^^^^^^^\n",
      "AssertionError: 2.3333333333333335 != 2.3335\n",
      "\n",
      "----------------------------------------------------------------------\n",
      "Ran 8 tests in 0.009s\n",
      "\n",
      "FAILED (failures=1)\n"
     ]
    }
   ],
   "source": [
    "class TestFeatureManipulation(unittest.TestCase):\n",
    "\n",
    "    def setUp(self):\n",
    "        self.df = pd.DataFrame({\n",
    "            'A': [1, 2, np.nan, 4],\n",
    "            'B': [1, -2, 3, 4],\n",
    "            'C': [5, 6, 7, 8]\n",
    "        })\n",
    "\n",
    "    def test_binarize_feature(self):\n",
    "        \"\"\"Test binarization of a feature.\"\"\"\n",
    "        result = binarize_feature(self.df, 'A', 2)\n",
    "        self.assertTrue('A_binarized' in result.columns)\n",
    "        self.assertEqual(result['A_binarized'].tolist(), [0, 1, 0, 1])\n",
    "\n",
    "    def test_log_transform_feature(self):\n",
    "        \"\"\"Test log transformation of a feature.\"\"\"\n",
    "        result = log_transform_feature(self.df, 'B')\n",
    "        self.assertTrue('B_log' in result.columns)\n",
    "        self.assertTrue(np.isnan(result['B_log'].iloc[1]))  # Check that negative values are turned to NaN\n",
    "\n",
    "    def test_add_polynomial_features(self):\n",
    "        \"\"\"Test adding polynomial features.\"\"\"\n",
    "        result = add_polynomial_features(self.df, 'C', degree=3)\n",
    "        self.assertTrue('C_poly2' in result.columns)\n",
    "        self.assertTrue('C_poly3' in result.columns)\n",
    "        self.assertEqual(result['C_poly2'].tolist(), [25, 36, 49, 64])\n",
    "\n",
    "    def test_impute_missing_values(self):\n",
    "        \"\"\"Test missing value imputation.\"\"\"\n",
    "        result = impute_missing_values(self.df, strategy='mean')\n",
    "        self.assertFalse(result['A'].isnull().any())\n",
    "        self.assertEqual(result['A'].iloc[2], 2.3335)  # Mean of 1, 2, 4\n",
    "\n",
    "    def test_invalid_binarize_feature(self):\n",
    "        \"\"\"Test binarization with an invalid feature.\"\"\"\n",
    "        with self.assertRaises(ValueError):\n",
    "            binarize_feature(self.df, 'D', 2)\n",
    "\n",
    "    def test_invalid_log_transform(self):\n",
    "        \"\"\"Test log transformation with an invalid feature.\"\"\"\n",
    "        with self.assertRaises(ValueError):\n",
    "            log_transform_feature(self.df, 'D')\n",
    "\n",
    "    def test_invalid_polynomial_degree(self):\n",
    "        \"\"\"Test polynomial feature creation with an invalid degree.\"\"\"\n",
    "        with self.assertRaises(ValueError):\n",
    "            add_polynomial_features(self.df, 'A', degree=0)\n",
    "\n",
    "    def test_invalid_imputation_strategy(self):\n",
    "        \"\"\"Test missing value imputation with an invalid strategy.\"\"\"\n",
    "        with self.assertRaises(ValueError):\n",
    "            impute_missing_values(self.df, strategy='mode')\n",
    "\n",
    "if __name__ == '__main__':\n",
    "    unittest.main(argv=[''], exit=False)\n"
   ]
  }
 ],
 "metadata": {
  "kernelspec": {
   "display_name": "Python 3",
   "language": "python",
   "name": "python3"
  },
  "language_info": {
   "codemirror_mode": {
    "name": "ipython",
    "version": 3
   },
   "file_extension": ".py",
   "mimetype": "text/x-python",
   "name": "python",
   "nbconvert_exporter": "python",
   "pygments_lexer": "ipython3",
   "version": "3.11.9"
  }
 },
 "nbformat": 4,
 "nbformat_minor": 2
}
